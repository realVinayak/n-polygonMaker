{
  "nbformat": 4,
  "nbformat_minor": 0,
  "metadata": {
    "colab": {
      "name": "Untitled2.ipynb",
      "provenance": []
    },
    "kernelspec": {
      "name": "python3",
      "display_name": "Python 3"
    }
  },
  "cells": [
    {
      "cell_type": "code",
      "metadata": {
        "id": "814KCWmNGtN4",
        "colab_type": "code",
        "colab": {
          "base_uri": "https://localhost:8080/",
          "height": 551
        },
        "outputId": "3f654cec-1225-4e17-9197-a37ec02ba5c6"
      },
      "source": [
        "import cv2\n",
        "import numpy as np\n",
        "from google.colab.patches import cv2_imshow\n",
        "image = np.zeros((1000, 1000, 1), np.uint8)\n",
        "#image[:] = (0)\n",
        "#cv2_imshow(image)\n",
        "import math\n",
        "img = np.zeros((500, 500, 1))\n",
        "img[:]=(25)\n",
        "center = [100,200]\n",
        "#img = cv2.line(img,(200,200),(100,100),255)\n",
        "#cv2_imshow(img)\n",
        "img[:] = 255\n",
        "\n",
        "def line(x, y, t):\n",
        "  global img\n",
        "  t += math.pi /2\n",
        "  j, g = y\n",
        "  d = 40\n",
        "  h = math.cos(t)*d + g\n",
        "  k = math.sin(t)*d + j\n",
        "  img = cv2.line(img, (y), (int(k),int(h)), 0)\n",
        "  return (int(k),int(h))\n",
        "#line((0,0), (200, 200), math.radians(45))\n",
        "#cv2_imshow(img)\n",
        "def mfig(n):\n",
        "  global img\n",
        "  h = 200\n",
        "  k = 200\n",
        "  d = 40\n",
        "  theta = math.radians(360/n)\n",
        "  a = k+d*math.sin(theta)\n",
        "  b = h+d*math.cos(theta)\n",
        " \n",
        "  for x in range(n):\n",
        "    c = (a+d*math.sin(x*(theta)))\n",
        "    e = (b+d*math.cos(x*(theta)))\n",
        "    img = cv2.line(img,(int(a),int(b)),(int(c),int(e)),0)\n",
        "    a = c\n",
        "    b = e\n",
        "    \n",
        "  cv2_imshow(img)\n",
        "\n",
        "w = int(input(\"Number of sides \"))\n",
        "print()\n",
        "mfig(w)\n"
      ],
      "execution_count": 71,
      "outputs": [
        {
          "output_type": "stream",
          "text": [
            "Number of sides 6\n",
            "\n"
          ],
          "name": "stdout"
        },
        {
          "output_type": "display_data",
          "data": {
            "image/png": "[encoded data removed]",
            "text/plain": [
              "<PIL.Image.Image image mode=RGB size=500x500 at 0x7F8F29BAC550>"
            ]
          },
          "metadata": {
            "tags": []
          }
        }
      ]
    }
  ]
}